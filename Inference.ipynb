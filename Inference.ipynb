{
 "cells": [
  {
   "cell_type": "code",
   "execution_count": 1,
   "metadata": {},
   "outputs": [],
   "source": [
    "import pandas as pd\n",
    "import numpy as np\n",
    "import sklearn\n",
    "from sklearn.model_selection import KFold\n",
    "import lightgbm as lgb\n",
    "import polyline\n",
    "import tqdm"
   ]
  },
  {
   "cell_type": "code",
   "execution_count": 2,
   "metadata": {},
   "outputs": [
    {
     "name": "stdout",
     "output_type": "stream",
     "text": [
      "pandas: version 0.25.3\n",
      "sklearn: version 0.21.2\n",
      "numpy: version 1.16.2\n",
      "tqdm: version 4.38.0\n",
      "lgb: version 2.3.0\n",
      "polyline: version 1.4.0\n"
     ]
    }
   ],
   "source": [
    "print('pandas: version {}'.format(pd.__version__))\n",
    "print('sklearn: version {}'.format(sklearn.__version__))\n",
    "print('numpy: version {}'.format(np.__version__))\n",
    "print('tqdm: version {}'.format(tqdm.__version__))\n",
    "print('lgb: version {}'.format(lgb.__version__))\n",
    "print('polyline: version {}'.format(polyline.__version__))\n",
    "\n",
    "# pandas: version 0.25.3\n",
    "# sklearn: version 0.21.2\n",
    "# numpy: version 1.16.2\n",
    "# tqdm: version 4.38.0\n",
    "# lgb: version 2.3.0\n",
    "# polyline: version 1.4.0"
   ]
  },
  {
   "cell_type": "markdown",
   "metadata": {},
   "source": [
    "## Загрузка данных"
   ]
  },
  {
   "cell_type": "code",
   "execution_count": 83,
   "metadata": {},
   "outputs": [],
   "source": [
    "dataset_place = 'test_additional.csv'\n",
    "test = pd.read_csv(dataset_place)"
   ]
  },
  {
   "cell_type": "markdown",
   "metadata": {},
   "source": [
    "## Генерация признаков"
   ]
  },
  {
   "cell_type": "code",
   "execution_count": 84,
   "metadata": {},
   "outputs": [],
   "source": [
    "# Функция для подсчета дистанции между 2 точками\n",
    "def dist(x_0, x_1):\n",
    "    return ((x_0[0] - x_1[0]) ** 2 + (x_0[1] - x_1[1]) ** 2) ** (1/2)"
   ]
  },
  {
   "cell_type": "code",
   "execution_count": 85,
   "metadata": {},
   "outputs": [],
   "source": [
    "# Импортируем необходимые для предсказаний переменный, которые мы получили при обучение модели\n",
    "import pickle\n",
    "with open('bst.pickle', 'rb') as f:\n",
    "    bst, best_k = pickle.load(f)\n",
    "    \n",
    "with open('additional_data.pickle', 'rb') as f:\n",
    "    global_mean, mean_dict, cnt_dict  = pickle.load( f)\n",
    "    \n",
    "train_cols = ['ETA', 'latitude', 'del_latitude', 'longitude', 'del_longitude', 'hour', 'weekday', 'e_speed', 'dist',\n",
    "              'dist_center_start', 'div_dist', 'mean_speed_encoding', 'len_route', 'max_route_part']"
   ]
  },
  {
   "cell_type": "code",
   "execution_count": 98,
   "metadata": {},
   "outputs": [],
   "source": [
    "def predict(test, bst, best_k, global_mean, mean_dict, cnt_dict):\n",
    "    # Переводим время в нужный формат\n",
    "    test['OrderedDate'] = pd.to_datetime(test['OrderedDate'])\n",
    "    # Добавляем час и день недели\n",
    "    test['hour'] = test['OrderedDate'].dt.hour\n",
    "    test['weekday'] = test['OrderedDate'].dt.weekday\n",
    "    # Считаем предпологаемую скорость\n",
    "    test['e_speed'] = test['ETA'] / test['EDA']\n",
    "    # Считаем дистанцию между началом и концом маршрута\n",
    "    test['dist'] = dist([test['latitude'].values, test['longitude'].values], \n",
    "                [test['del_latitude'].values, test['del_longitude'].values])\n",
    "    # Считаем дистанцию между началом маршрута и центром города\n",
    "    test['dist_center_start'] = dist([test['latitude'].values, test['longitude'].values], \n",
    "                [test['center_latitude'].values, test['center_longitude'].values])\n",
    "    # Смотрим отношения расстояния между началом и концом маршрута к предпологаемому расстоянию\n",
    "    test['div_dist'] = test['dist'] / test['EDA']\n",
    "\n",
    "    alpha = 20\n",
    "    test['hour_locality'] = test['hour'].astype(str) + '_' + test['main_id_locality'].astype(str)\n",
    "    # Считаем реальную среднюю скорость\n",
    "    test['mean_speed_encoding'] = -1\n",
    "    # сглаженная средняя скорость\n",
    "    mean_target = []\n",
    "    for x in test['hour_locality'].values:\n",
    "        mean_target += [(alpha * global_mean + mean_dict.get(x, 0) * cnt_dict.get(x, 0)) / (alpha + cnt_dict.get(x, 0))]\n",
    "    test['mean_speed_encoding'] = mean_target\n",
    "    # Для предпологаемых путей посчитаем количество точек в маршруте\n",
    "    route_list = []\n",
    "    for route in test['route'].values:\n",
    "        if route == route:\n",
    "            route_list += [polyline.decode(route)]\n",
    "        else:\n",
    "            route_list += [()]\n",
    "    test['len_route'] = [len(x) for x in route_list]\n",
    "    # И посчитаем максимульную для между точками в каждом маршруте\n",
    "    dist_route_list = []\n",
    "    for route in route_list:\n",
    "        dist_route_list += [[dist(x_0, x_1) for x_0, x_1 in zip(route[:-1], route[1:])]]\n",
    "    test['max_route_part'] = [max(x) if len(x) > 0 else -1 for x in dist_route_list]\n",
    "    # предсказываем ответ\n",
    "    answer = np.clip(bst.predict(test[train_cols].values), 0, 2) * test['ETA'] - test['ETA'] * best_k\n",
    "    return answer"
   ]
  },
  {
   "cell_type": "markdown",
   "metadata": {},
   "source": [
    "## Проверим скорость предикта"
   ]
  },
  {
   "cell_type": "code",
   "execution_count": 99,
   "metadata": {},
   "outputs": [
    {
     "name": "stdout",
     "output_type": "stream",
     "text": [
      "Wall time: 16.8 s\n"
     ]
    }
   ],
   "source": [
    "%%time\n",
    "test_val = test.loc[[0], :].copy()\n",
    "for x in range(1000):\n",
    "    answer = predict(test_val, bst, best_k, global_mean, mean_dict, cnt_dict)"
   ]
  },
  {
   "cell_type": "code",
   "execution_count": 100,
   "metadata": {},
   "outputs": [
    {
     "name": "stdout",
     "output_type": "stream",
     "text": [
      "TIME FOR 1 PREDICT: 16.8 ms\n"
     ]
    }
   ],
   "source": [
    "print('TIME FOR 1 PREDICT: 16.8 ms' )"
   ]
  },
  {
   "cell_type": "code",
   "execution_count": null,
   "metadata": {},
   "outputs": [],
   "source": []
  }
 ],
 "metadata": {
  "kernelspec": {
   "display_name": "Python 3",
   "language": "python",
   "name": "python3"
  },
  "language_info": {
   "codemirror_mode": {
    "name": "ipython",
    "version": 3
   },
   "file_extension": ".py",
   "mimetype": "text/x-python",
   "name": "python",
   "nbconvert_exporter": "python",
   "pygments_lexer": "ipython3",
   "version": "3.7.3"
  }
 },
 "nbformat": 4,
 "nbformat_minor": 2
}
