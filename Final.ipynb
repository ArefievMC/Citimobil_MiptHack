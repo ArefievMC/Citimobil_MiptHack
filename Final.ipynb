{
 "cells": [
  {
   "cell_type": "code",
   "execution_count": 1,
   "metadata": {},
   "outputs": [],
   "source": [
    "import pandas as pd\n",
    "import numpy as np\n",
    "import sklearn\n",
    "from sklearn.model_selection import KFold\n",
    "import lightgbm as lgb\n",
    "import polyline\n",
    "import tqdm"
   ]
  },
  {
   "cell_type": "code",
   "execution_count": 2,
   "metadata": {},
   "outputs": [
    {
     "name": "stdout",
     "output_type": "stream",
     "text": [
      "pandas: version 0.25.3\n",
      "sklearn: version 0.21.2\n",
      "numpy: version 1.16.2\n",
      "tqdm: version 4.38.0\n",
      "lgb: version 2.3.0\n",
      "polyline: version 1.4.0\n"
     ]
    }
   ],
   "source": [
    "print('pandas: version {}'.format(pd.__version__))\n",
    "print('sklearn: version {}'.format(sklearn.__version__))\n",
    "print('numpy: version {}'.format(np.__version__))\n",
    "print('tqdm: version {}'.format(tqdm.__version__))\n",
    "print('lgb: version {}'.format(lgb.__version__))\n",
    "print('polyline: version {}'.format(polyline.__version__))"
   ]
  },
  {
   "cell_type": "markdown",
   "metadata": {},
   "source": [
    "## Загрузка данных"
   ]
  },
  {
   "cell_type": "code",
   "execution_count": 3,
   "metadata": {},
   "outputs": [],
   "source": [
    "# Загружаем датасеты\n",
    "train = pd.read_csv('train.csv')\n",
    "valid = pd.read_csv('validation.csv')\n",
    "test = pd.read_csv('test_additional.csv')\n",
    "# Соединяем трейновый и валидационный датасет в один\n",
    "train = pd.concat([train, valid], sort = False).reset_index(drop = True)"
   ]
  },
  {
   "cell_type": "code",
   "execution_count": 4,
   "metadata": {},
   "outputs": [],
   "source": [
    "# Соединяем трейновый и тестовый сет в один\n",
    "data = pd.concat([train, test], sort = False, axis = 0).reset_index(drop = True)\n",
    "target = 'RTA'"
   ]
  },
  {
   "cell_type": "markdown",
   "metadata": {},
   "source": [
    "## Генерация признаков"
   ]
  },
  {
   "cell_type": "code",
   "execution_count": 5,
   "metadata": {},
   "outputs": [],
   "source": [
    "# MAPE\n",
    "def mape(y_true, y_pred): \n",
    "    return np.mean(np.abs((y_true - y_pred) / y_true)) * 100\n",
    "# Функция для подсчета дистанции между 2 точками\n",
    "def dist(x_0, x_1):\n",
    "    return ((x_0[0] - x_1[0]) ** 2 + (x_0[1] - x_1[1]) ** 2) ** (1/2)"
   ]
  },
  {
   "cell_type": "code",
   "execution_count": 6,
   "metadata": {},
   "outputs": [],
   "source": [
    "# Переводим время в нужный формат\n",
    "data['OrderedDate'] = pd.to_datetime(data['OrderedDate'])\n",
    "# Добавляем час и день недели\n",
    "data['hour'] = data['OrderedDate'].dt.hour\n",
    "data['weekday'] = data['OrderedDate'].dt.weekday\n",
    "# Считаем предпологаемую скорость\n",
    "data['e_speed'] = data['ETA'] / data['EDA']\n",
    "# Считаем дистанцию между началом и концом маршрута\n",
    "data['dist'] = dist([data['latitude'].values, data['longitude'].values], \n",
    "            [data['del_latitude'].values, data['del_longitude'].values])\n",
    "# Считаем дистанцию между началом маршрута и центром города\n",
    "data['dist_center_start'] = dist([data['latitude'].values, data['longitude'].values], \n",
    "            [data['center_latitude'].values, data['center_longitude'].values])\n",
    "# Смотрим отношения расстояния между началом и концом маршрута к предпологаемому расстоянию\n",
    "data['div_dist'] = data['dist'] / data['EDA']"
   ]
  },
  {
   "cell_type": "code",
   "execution_count": 7,
   "metadata": {},
   "outputs": [],
   "source": [
    "# Из датасета берем только 2,5 недели для обучения (так как эти данные наиболее релевантны)\n",
    "max_train_date = data[~data[target].isnull()].OrderedDate.max().round('d')\n",
    "start_date = max_train_date - pd.DateOffset(days=17)\n",
    "data = data[data.OrderedDate >= start_date].reset_index(drop = True)\n",
    "ltr = data[~data['RTA'].isnull()].shape[0]"
   ]
  },
  {
   "cell_type": "code",
   "execution_count": 8,
   "metadata": {},
   "outputs": [],
   "source": [
    "# Делим наш трейн на фолды для подсчет средней скорости по каждому часу и  городу\n",
    "def standart_split(data, target,  n_splits):\n",
    "    split_list = []\n",
    "    for i in range(n_splits):\n",
    "        kf = KFold(n_splits=5, shuffle = True, random_state = 228 + i)\n",
    "        for train_index, test_index in kf.split(data.iloc[:ltr, :], data[target][:ltr]):\n",
    "            split_list += [(train_index, test_index)]\n",
    "    return split_list\n",
    "split_list = standart_split(data, target, 1)"
   ]
  },
  {
   "cell_type": "code",
   "execution_count": 9,
   "metadata": {},
   "outputs": [],
   "source": [
    "alpha = 20\n",
    "data['hour_locality'] = data['hour'].astype(str) + '_' + data['main_id_locality'].astype(str)\n",
    "# Считаем реальную среднюю скорость\n",
    "data['speed'] = data['RTA'] / data['RDA']\n",
    "data['mean_speed_encoding'] = -1\n",
    "# Для каждого фолда считаем сглаженную среднюю скорость по формуле (alpha * global_mean + mean * cnt) / (alpha + cnt)\n",
    "# где mean - средняя скорость для данного города в данное время, cnt - кол-во поездок в данном городе в данное время в трейне,\n",
    "# global_mean - средняя скорость по всему трейну и alpha - 20 (константа)\n",
    "# Считаем для трейновой части по фолдам, чтобы предотвратить переобучение\n",
    "for train_index, test_index in split_list:\n",
    "    global_mean = data.loc[train_index, 'speed'].mean()\n",
    "    mean_dict = data.loc[train_index, :].groupby('hour_locality')['speed'].mean().to_dict()\n",
    "    cnt_dict =  data.loc[train_index, :].groupby('hour_locality').size().to_dict()\n",
    "    mean_target = data.loc[test_index, 'hour_locality'].apply(\n",
    "        lambda x: (alpha * global_mean + mean_dict.get(x, 0) * cnt_dict.get(x, 0)) / (alpha + cnt_dict.get(x, 0))).values\n",
    "    data.loc[test_index, 'mean_speed_encoding'] = mean_target\n",
    "# Считаем для тестовой части\n",
    "global_mean = data.loc[:ltr-1, 'speed'].mean()\n",
    "mean_dict = data.loc[:ltr-1, :].groupby('hour_locality')['speed'].mean().to_dict()\n",
    "cnt_dict =  data.loc[:ltr-1, :].groupby('hour_locality').size().to_dict()\n",
    "mean_target = data.loc[ltr:, 'hour_locality'].apply(\n",
    "    lambda x: (alpha * global_mean + mean_dict.get(x, 0) * cnt_dict.get(x, 0)) / (alpha + cnt_dict.get(x, 0))).values\n",
    "data.loc[ltr:, 'mean_speed_encoding'] = mean_target"
   ]
  },
  {
   "cell_type": "code",
   "execution_count": 158,
   "metadata": {},
   "outputs": [],
   "source": [
    "import pickle\n",
    "with open('additional_data.pickle', 'wb') as f:\n",
    "    pickle.dump([global_mean, mean_dict, cnt_dict], f)"
   ]
  },
  {
   "cell_type": "code",
   "execution_count": 11,
   "metadata": {},
   "outputs": [
    {
     "data": {
      "application/vnd.jupyter.widget-view+json": {
       "model_id": "190124ca4315460f8b7000ce8dc1573b",
       "version_major": 2,
       "version_minor": 0
      },
      "text/plain": [
       "HBox(children=(IntProgress(value=0, max=335880), HTML(value='')))"
      ]
     },
     "metadata": {},
     "output_type": "display_data"
    },
    {
     "name": "stdout",
     "output_type": "stream",
     "text": [
      "\n"
     ]
    },
    {
     "data": {
      "application/vnd.jupyter.widget-view+json": {
       "model_id": "6e58a051f1e449249660abb3d5b668e5",
       "version_major": 2,
       "version_minor": 0
      },
      "text/plain": [
       "HBox(children=(IntProgress(value=0, max=335880), HTML(value='')))"
      ]
     },
     "metadata": {},
     "output_type": "display_data"
    },
    {
     "name": "stdout",
     "output_type": "stream",
     "text": [
      "\n"
     ]
    }
   ],
   "source": [
    "# Для предпологаемых путей посчитаем количество точек в маршруте\n",
    "from tqdm.notebook import tqdm\n",
    "\n",
    "route_list = []\n",
    "for route in tqdm(data['route'].values):\n",
    "    if route == route:\n",
    "        route_list += [polyline.decode(route)]\n",
    "    else:\n",
    "        route_list += [()]\n",
    "data['len_route'] = [len(x) for x in route_list]\n",
    "# И посчитаем максимульную для между точками в каждом маршруте\n",
    "dist_route_list = []\n",
    "for route in tqdm(route_list):\n",
    "    dist_route_list += [[dist(x_0, x_1) for x_0, x_1 in zip(route[:-1], route[1:])]]\n",
    "data['max_route_part'] = [max(x) if len(x) > 0 else -1 for x in dist_route_list]"
   ]
  },
  {
   "cell_type": "markdown",
   "metadata": {},
   "source": [
    "## Обучение модели"
   ]
  },
  {
   "cell_type": "code",
   "execution_count": 12,
   "metadata": {},
   "outputs": [],
   "source": [
    "# Колонки для обучения\n",
    "train_cols = ['ETA', 'latitude', 'del_latitude', 'longitude', 'del_longitude', 'hour', 'weekday', 'e_speed', 'dist',\n",
    "              'dist_center_start', 'div_dist', 'mean_speed_encoding', 'len_route', 'max_route_part']\n",
    "# Параметры lightgbm\n",
    "param_lgb = { 'learning_rate':0.1,'num_leaves':6, 'objective':'mae',\n",
    "                     'metric':'mape', 'feature_fraction': 0.8}"
   ]
  },
  {
   "cell_type": "code",
   "execution_count": 13,
   "metadata": {},
   "outputs": [
    {
     "name": "stdout",
     "output_type": "stream",
     "text": [
      "Training until validation scores don't improve for 250 rounds\n",
      "[250]\ttraining's mape: 0.119642\tvalid_1's mape: 0.116172\n",
      "[500]\ttraining's mape: 0.118035\tvalid_1's mape: 0.115605\n",
      "[750]\ttraining's mape: 0.116907\tvalid_1's mape: 0.11536\n",
      "[1000]\ttraining's mape: 0.11614\tvalid_1's mape: 0.115179\n",
      "[1250]\ttraining's mape: 0.115537\tvalid_1's mape: 0.115076\n",
      "[1500]\ttraining's mape: 0.115022\tvalid_1's mape: 0.114988\n",
      "[1750]\ttraining's mape: 0.114506\tvalid_1's mape: 0.114954\n",
      "[2000]\ttraining's mape: 0.113987\tvalid_1's mape: 0.114903\n",
      "[2250]\ttraining's mape: 0.113601\tvalid_1's mape: 0.114831\n",
      "[2500]\ttraining's mape: 0.113175\tvalid_1's mape: 0.114746\n",
      "[2750]\ttraining's mape: 0.112803\tvalid_1's mape: 0.114688\n",
      "[3000]\ttraining's mape: 0.112407\tvalid_1's mape: 0.114627\n",
      "[3250]\ttraining's mape: 0.112081\tvalid_1's mape: 0.114611\n",
      "[3500]\ttraining's mape: 0.111744\tvalid_1's mape: 0.11459\n",
      "[3750]\ttraining's mape: 0.111474\tvalid_1's mape: 0.114579\n",
      "[4000]\ttraining's mape: 0.111216\tvalid_1's mape: 0.114574\n",
      "Early stopping, best iteration is:\n",
      "[3862]\ttraining's mape: 0.111354\tvalid_1's mape: 0.114558\n"
     ]
    }
   ],
   "source": [
    "# Для валидации берем последнюю неделю\n",
    "# Конец обучения\n",
    "end_train = max_train_date - pd.DateOffset(days=7)\n",
    "# Старт валидации\n",
    "start_valid = max_train_date - pd.DateOffset(days=7)\n",
    "# Окончание валидации\n",
    "end_valid = max_train_date \n",
    "# Индексы для обучения и валидации\n",
    "train_index = data[(data.OrderedDate < end_train)].index\n",
    "val_index = data[(data.OrderedDate >=  start_valid) & (data.OrderedDate < end_valid)].index\n",
    "# Предсказывать будем отношение реального таргета к предпологаемому времени пути\n",
    "data_target = np.array(data[target] / data['ETA'])\n",
    "# Создаем датасеты для обучения и валидации\n",
    "tr = lgb.Dataset(np.array(data[train_cols])[train_index], data_target[train_index])\n",
    "val = lgb.Dataset(np.array(data[train_cols])[val_index], data_target[val_index], reference=tr)\n",
    "# Обучаем бустинг\n",
    "bst = lgb.train(param_lgb, tr, num_boost_round = 5000, valid_sets = [tr, val], \n",
    "                        early_stopping_rounds = 250, verbose_eval = 250,\n",
    "                        feature_name=train_cols)"
   ]
  },
  {
   "cell_type": "code",
   "execution_count": 14,
   "metadata": {},
   "outputs": [
    {
     "name": "stdout",
     "output_type": "stream",
     "text": [
      "Validation Lightgbm MAPE 14.785080707527776\n"
     ]
    }
   ],
   "source": [
    "# посчитаем скор на валидации, предикт мы обрезаем с 0.5 до 2 исходя из природы данных\n",
    "val_pred = np.clip(bst.predict(np.array(data[train_cols]))[val_index], 0.5, 2) * data['ETA'][val_index]\n",
    "print('Validation Lightgbm MAPE {}'.format(mape(data[target][val_index], val_pred[val_index]  )))"
   ]
  },
  {
   "cell_type": "code",
   "execution_count": 15,
   "metadata": {},
   "outputs": [],
   "source": [
    "# Так как распределение поменялось на тесте из за карантина, мы сдвинем наше предсказания, по формуле predict - k * ETA,\n",
    "# находим на валидации лучшую k\n",
    "mape_scores = []\n",
    "for k in range(15):\n",
    "    k = k * 0.01 - 0.05\n",
    "    mape_scores += [mape(data[target][val_index], val_pred[val_index] - data['ETA'][val_index] * k)]\n",
    "best_k = (np.argmin(mape_scores) * 0.01 - 0.05).round(2)"
   ]
  },
  {
   "cell_type": "code",
   "execution_count": 16,
   "metadata": {},
   "outputs": [
    {
     "name": "stdout",
     "output_type": "stream",
     "text": [
      "Validation Fix Lightgbm MAPE 14.12244031175471\n"
     ]
    }
   ],
   "source": [
    "print('Validation Fix Lightgbm MAPE {}'.format(mape(data[target][val_index], val_pred[val_index] \n",
    "                                        - data['ETA'][val_index] * best_k )))"
   ]
  },
  {
   "cell_type": "code",
   "execution_count": 17,
   "metadata": {},
   "outputs": [
    {
     "name": "stdout",
     "output_type": "stream",
     "text": [
      "Num trees: 3862\n"
     ]
    }
   ],
   "source": [
    "print('Num trees: {}'.format(bst.best_iteration))"
   ]
  },
  {
   "cell_type": "code",
   "execution_count": 19,
   "metadata": {},
   "outputs": [],
   "source": [
    "# Обучаем предикт на тест\n",
    "tr = lgb.Dataset(np.array(data[train_cols])[:ltr], data_target[:ltr])\n",
    "bst = lgb.train(param_lgb, tr, num_boost_round = bst.best_iteration, feature_name=train_cols)"
   ]
  },
  {
   "cell_type": "code",
   "execution_count": 156,
   "metadata": {},
   "outputs": [
    {
     "data": {
      "text/plain": [
       "<matplotlib.axes._subplots.AxesSubplot at 0x197938f3f60>"
      ]
     },
     "execution_count": 156,
     "metadata": {},
     "output_type": "execute_result"
    },
    {
     "data": {
      "image/png": "[encoded data removed]",
      "text/plain": [
       "<Figure size 1440x720 with 1 Axes>"
      ]
     },
     "metadata": {
      "needs_background": "light"
     },
     "output_type": "display_data"
    }
   ],
   "source": [
    "# Посмотрим Features Importamce\n",
    "import matplotlib.pyplot as plt\n",
    "plt.rcParams[\"figure.figsize\"] = (20,10)\n",
    "lgb.plot_importance(bst, importance_type='gain')"
   ]
  },
  {
   "cell_type": "code",
   "execution_count": 157,
   "metadata": {},
   "outputs": [
    {
     "data": {
      "text/plain": [
       "<matplotlib.axes._subplots.AxesSubplot at 0x197977eec88>"
      ]
     },
     "execution_count": 157,
     "metadata": {},
     "output_type": "execute_result"
    },
    {
     "data": {
      "image/png": "[encoded data removed]",
      "text/plain": [
       "<Figure size 1440x720 with 1 Axes>"
      ]
     },
     "metadata": {
      "needs_background": "light"
     },
     "output_type": "display_data"
    }
   ],
   "source": [
    "# Распредление таргета\n",
    "(data[target] / data['ETA']).hist(bins = 100)"
   ]
  },
  {
   "cell_type": "code",
   "execution_count": 22,
   "metadata": {},
   "outputs": [],
   "source": [
    "# Делаем файл сабмита\n",
    "test_pred = np.clip(bst.predict(np.array(data[train_cols]))[ltr:], 0.5, 2) * data['ETA'][ltr:]\n",
    "test['Prediction'] = test_pred.values - (data['ETA'][ltr:].values * best_k)\n",
    "test[['Id', 'Prediction']].to_csv('final_submition.csv', index = None)"
   ]
  },
  {
   "cell_type": "code",
   "execution_count": 23,
   "metadata": {},
   "outputs": [],
   "source": [
    "# Сохраняем модель\n",
    "import pickle\n",
    "with open('bst.pickle', 'wb') as f:\n",
    "    pickle.dump([bst, best_k], f)"
   ]
  },
  {
   "cell_type": "code",
   "execution_count": null,
   "metadata": {},
   "outputs": [],
   "source": []
  }
 ],
 "metadata": {
  "kernelspec": {
   "display_name": "Python 3",
   "language": "python",
   "name": "python3"
  },
  "language_info": {
   "codemirror_mode": {
    "name": "ipython",
    "version": 3
   },
   "file_extension": ".py",
   "mimetype": "text/x-python",
   "name": "python",
   "nbconvert_exporter": "python",
   "pygments_lexer": "ipython3",
   "version": "3.7.3"
  }
 },
 "nbformat": 4,
 "nbformat_minor": 2
}
